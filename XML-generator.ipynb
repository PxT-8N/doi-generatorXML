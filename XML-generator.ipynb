{
 "cells": [
  {
   "cell_type": "markdown",
   "id": "4f618279",
   "metadata": {},
   "source": [
    "# Imports"
   ]
  },
  {
   "cell_type": "code",
   "execution_count": 125,
   "id": "ab809bf8",
   "metadata": {},
   "outputs": [],
   "source": [
    "from datetime import datetime\n",
    "import pandas as pd\n",
    "from string import Template\n",
    "from tqdm import tqdm"
   ]
  },
  {
   "cell_type": "markdown",
   "id": "1fe8fd2f",
   "metadata": {},
   "source": [
    "# Variables"
   ]
  },
  {
   "cell_type": "code",
   "execution_count": 126,
   "id": "33a92e79",
   "metadata": {},
   "outputs": [],
   "source": [
    "file = '2023 DOI ASSIGNMENTS.xlsx' #Path to excel file\n",
    "\n",
    "batch_id = 12344\n",
    "depositor_name = 'hello@istvs.org:istvs'\n",
    "email_address = 'hello@istvs.org'\n",
    "registrant = 'International Society of Terrain-Vehicle Systems'\n",
    "\n",
    "conference_name = '16th European-African Regional Conference of the ISTVS'\n",
    "conference_theme = 'Terramechanics'\n",
    "conference_acronym = 'ISTVS2023'\n",
    "conference_sponsor = ' '\n",
    "conference_number = 16\n",
    "conference_location = 'Lublin, Poland'\n",
    "start_month=\"10\"\n",
    "start_year=\"2023\"\n",
    "start_day=\"11\"\n",
    "end_year=\"2023\"\n",
    "end_month=\"10\"\n",
    "end_day=\"13\"\n",
    "\n",
    "proceedings_title = 'Proceedings of the 16th European-African Regional Conference of the ISTVS'\n",
    "proceedings_subject = 'Terramechanics'\n",
    "\n",
    "publisher_name = 'International Society for Terrain-Vehicle Systems'\n",
    "publisher_place = 'Hanover, NH, U.S.'\n",
    "\n",
    "publication_date_year = 2023\n",
    "isbn = '978-1-942112-55-6'\n",
    "\n",
    "processings_doi = '10.56884/IGQO3531'\n",
    "processings_resource = 'http://2023.istvs.org'\n",
    "\n",
    "article_year = 2023\n",
    "\n",
    "maxAuthors = 11\n"
   ]
  },
  {
   "cell_type": "code",
   "execution_count": 127,
   "id": "e8a92395",
   "metadata": {},
   "outputs": [],
   "source": [
    "now = datetime.now()\n",
    "ts = now.strftime(\"%Y%m%d%H%M%S\")"
   ]
  },
  {
   "cell_type": "markdown",
   "id": "97b4fb4c",
   "metadata": {},
   "source": [
    "# Code"
   ]
  },
  {
   "cell_type": "code",
   "execution_count": 128,
   "id": "86e65be2",
   "metadata": {},
   "outputs": [
    {
     "name": "stderr",
     "output_type": "stream",
     "text": [
      "41it [00:00, 1620.40it/s]\n"
     ]
    }
   ],
   "source": [
    "df = pd.read_excel(file)\n",
    "df.columns = df.iloc[6]\n",
    "df[df['Status'] == 'End'].index[0]\n",
    "df = df[7:df[df['Status'] == 'End'].index[0]]\n",
    "\n",
    "\n",
    "papers = ''\n",
    "for index, row in tqdm(df.iterrows()):\n",
    "    authors = ''\n",
    "    if(row['Status'] == 'Ok'):\n",
    "        \n",
    "        for i in range(1,maxAuthors):\n",
    "            sequenceText = 'additional'\n",
    "            if(i == 1): \n",
    "                sequenceText = 'first'\n",
    "            if(not pd.isna(row[f'Author{i} First Name']) and not pd.isna(row[f'Author{i} Last Name'])):\n",
    "                \n",
    "                author_info = {\n",
    "                    'seq': sequenceText,\n",
    "                    'fname': row[f'Author{i} First Name'],\n",
    "                    'lname': row[f'Author{i} Last Name']\n",
    "                }\n",
    "                with open('author.template.txt', 'r') as f:\n",
    "                    src = Template(f.read())\n",
    "                    result = src.substitute(author_info)\n",
    "                    authors += result\n",
    "                \n",
    "        if(authors != ''):\n",
    "            paper_info = {\n",
    "                'authors': authors,\n",
    "                'title': row['Title'],\n",
    "                'year': article_year,\n",
    "                'doi': row['DOI'].replace('https://doi.org/',''),\n",
    "                'url': row['URL - GITBOOK']\n",
    "                }\n",
    "            \n",
    "            \n",
    "            with open('conference_paper.template.txt', 'r') as f:\n",
    "                src = Template(f.read())\n",
    "                paper = src.substitute(paper_info)\n",
    "                papers += paper"
   ]
  },
  {
   "cell_type": "code",
   "execution_count": 129,
   "id": "a16bbf7a",
   "metadata": {},
   "outputs": [],
   "source": [
    "conference_info = {\n",
    "    'batch_id': batch_id,\n",
    "    'timestamp': ts,\n",
    "    'depositor_name': depositor_name,\n",
    "    'email_address': email_address,\n",
    "    'registrant': registrant,\n",
    "    'conference_name': conference_name,\n",
    "    'conference_theme': conference_theme,\n",
    "    'conference_acronym': conference_acronym,\n",
    "    'conference_sponsor': conference_sponsor,\n",
    "    'conference_number': conference_number,\n",
    "    'conference_location': conference_location,\n",
    "    'start_month': start_month,\n",
    "    'start_year': start_year,\n",
    "    'start_day': start_day,\n",
    "    'end_year': end_year,\n",
    "    'end_month': end_month,\n",
    "    'end_day': end_day,\n",
    "    'proceedings_title': proceedings_title,\n",
    "    'proceedings_subject': proceedings_subject,\n",
    "    'publisher_name': publisher_name,\n",
    "    'publisher_place': publisher_place,\n",
    "    'publication_date_year': publication_date_year,\n",
    "    'isbn': isbn,\n",
    "    'processings_doi': processings_doi,\n",
    "    'processings_resource': processings_resource,\n",
    "    'conference_papers': papers\n",
    "}\n",
    "\n",
    "with open('conference.template.txt', 'r') as f:\n",
    "    src = Template(f.read())\n",
    "    result = src.substitute(conference_info)\n",
    "    with open('dois.xml', 'x', encoding=\"utf-8\") as f:\n",
    "        f.write(result)"
   ]
  }
 ],
 "metadata": {
  "kernelspec": {
   "display_name": "Python 3 (ipykernel)",
   "language": "python",
   "name": "python3"
  },
  "language_info": {
   "codemirror_mode": {
    "name": "ipython",
    "version": 3
   },
   "file_extension": ".py",
   "mimetype": "text/x-python",
   "name": "python",
   "nbconvert_exporter": "python",
   "pygments_lexer": "ipython3",
   "version": "3.8.13"
  },
  "varInspector": {
   "cols": {
    "lenName": 16,
    "lenType": 16,
    "lenVar": 40
   },
   "kernels_config": {
    "python": {
     "delete_cmd_postfix": "",
     "delete_cmd_prefix": "del ",
     "library": "var_list.py",
     "varRefreshCmd": "print(var_dic_list())"
    },
    "r": {
     "delete_cmd_postfix": ") ",
     "delete_cmd_prefix": "rm(",
     "library": "var_list.r",
     "varRefreshCmd": "cat(var_dic_list()) "
    }
   },
   "types_to_exclude": [
    "module",
    "function",
    "builtin_function_or_method",
    "instance",
    "_Feature"
   ],
   "window_display": false
  }
 },
 "nbformat": 4,
 "nbformat_minor": 5
}
