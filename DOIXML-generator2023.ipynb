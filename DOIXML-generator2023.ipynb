{
 "cells": [
  {
   "cell_type": "markdown",
   "id": "4f618279",
   "metadata": {},
   "source": [
    "# Imports"
   ]
  },
  {
   "cell_type": "code",
   "execution_count": 1,
   "id": "4b637f25",
   "metadata": {},
   "outputs": [],
   "source": [
    "from datetime import datetime\n",
    "import pandas as pd\n",
    "from string import Template\n",
    "from tqdm import tqdm\n",
    "import random\n",
    "import string\n",
    "import os"
   ]
  },
  {
   "cell_type": "markdown",
   "id": "1fe8fd2f",
   "metadata": {},
   "source": [
    "# DOI generator"
   ]
  },
  {
   "cell_type": "code",
   "execution_count": 2,
   "id": "03a4a237-6b0f-4c41-9811-a43d7b9be619",
   "metadata": {},
   "outputs": [],
   "source": [
    "alphabet = string.ascii_uppercase + string.digits\n",
    "\n",
    "def random_choice():\n",
    "    return ''.join(random.choices(alphabet, k=8))"
   ]
  },
  {
   "cell_type": "markdown",
   "id": "ad9572e3-d701-439b-879d-128729750b52",
   "metadata": {},
   "source": [
    "# Variables"
   ]
  },
  {
   "cell_type": "code",
   "execution_count": null,
   "id": "33a92e79",
   "metadata": {},
   "outputs": [],
   "source": [
    "file = 'EC ISTVS2024_2024-11-22_1732286348.xlsx' #Path to excel file from Easy Chair\n",
    "\n",
    "batch_id = 12344\n",
    "depositor_name = 'hello@istvs.org:istvs'\n",
    "email_address = 'hello@istvs.org'\n",
    "registrant = 'International Society of Terrain-Vehicle Systems'\n",
    "\n",
    "conference_name = '16th European-African Regional Conference of the ISTVS'\n",
    "conference_theme = 'Terramechanics'\n",
    "conference_acronym = 'ISTVS2023'\n",
    "conference_sponsor = ' '\n",
    "conference_number = 16\n",
    "conference_location = 'Lublin, Poland'\n",
    "start_month=\"10\"\n",
    "start_year=\"2023\"\n",
    "start_day=\"11\"\n",
    "end_year=\"2023\"\n",
    "end_month=\"10\"\n",
    "end_day=\"13\"\n",
    "\n",
    "proceedings_title = 'Proceedings of the 16th European-African Regional Conference of the ISTVS'\n",
    "proceedings_subject = 'Terramechanics'\n",
    "\n",
    "publisher_name = 'International Society for Terrain-Vehicle Systems'\n",
    "publisher_place = 'Hanover, NH, U.S.'\n",
    "\n",
    "publication_date_year = 2023\n",
    "isbn = '978-1-942112-55-6'\n",
    "\n",
    "processings_doi = '10.56884/IGQO3531' # '10.56884/' + random_choice()\n",
    "processings_resource = 'http://2023.istvs.org'\n",
    "\n",
    "article_year = 2023\n",
    "\n",
    "DOI_prefix = '10.56884'\n",
    "\n",
    "URL_GITBOOK = 'https://2023.istvs.org/submissions/papers/'"
   ]
  },
  {
   "cell_type": "code",
   "execution_count": 4,
   "id": "d90177b1-6e9b-4d29-93b1-f96d34fae817",
   "metadata": {},
   "outputs": [
    {
     "data": {
      "text/plain": [
       "'10.56884/H3WLZCGW'"
      ]
     },
     "execution_count": 4,
     "metadata": {},
     "output_type": "execute_result"
    }
   ],
   "source": [
    "processings_doi"
   ]
  },
  {
   "cell_type": "code",
   "execution_count": 5,
   "id": "394596ef-40fe-4c14-a829-b92b2c48d47e",
   "metadata": {},
   "outputs": [],
   "source": [
    "now = datetime.now()\n",
    "ts = now.strftime(\"%Y%m%d%H%M%S\")"
   ]
  },
  {
   "cell_type": "markdown",
   "id": "5a8177d1",
   "metadata": {},
   "source": [
    "# Confersion from Easy chair format"
   ]
  },
  {
   "cell_type": "code",
   "execution_count": 6,
   "id": "3f84cbaa-0207-483f-9cb6-4b2401bf6c0f",
   "metadata": {},
   "outputs": [],
   "source": [
    "if(os.path.isfile('formatted_'+file)):\n",
    "    print(f\"The formatted file for {file} already exists. Further processing will be performed without making changes to this file (formatted_{file}).\")\n",
    "else:\n",
    "    df_EC = pd.read_excel(file)\n",
    "\n",
    "    df_EC = df_EC[df_EC['submission_type'] == 'full_paper_sub']\n",
    "    \n",
    "    df_EC['Authors'] = df_EC['Authors'].str.replace('\\n', ' ')\n",
    "    df_EC['Title'] = df_EC['Title'].str.replace('\\n', ' ').str.title()\n",
    "    df_EC['Keywords'] = df_EC['Keywords'].str.replace('\\\\n', ', ', regex=True)\n",
    "    df_EC['Abstract'] = df_EC['Abstract'].str.replace('\\n', ' ')\n",
    "    \n",
    "    df_EC['URL - GITBOOK'] = df_EC['#'].apply(lambda x: URL_GITBOOK+str(x).zfill(4))\n",
    "\n",
    "    splitted = df_EC['Authors'].str.replace(' and ',', ').str.split(', ', expand=True)\n",
    "    \n",
    "    new_columns = []\n",
    "    for i in range((splitted.shape[1])):\n",
    "        new_columns.append(f'Author{i+1}')\n",
    "    splitted.columns = new_columns\n",
    "\n",
    "    dois = []\n",
    "    for i in range(df_EC.shape[0]):\n",
    "        dois.append(DOI_prefix+'/'+random_choice())\n",
    "\n",
    "    df_doi = pd.DataFrame(dois, columns=['DOI'])\n",
    "    \n",
    "    df_EC = df_EC.reset_index(drop=True)\n",
    "    splitted = splitted.reset_index(drop=True)\n",
    "    \n",
    "    df_excel = pd.concat([df_EC[['#','Authors','Title','Keywords','Abstract','URL - GITBOOK']], df_doi, splitted], axis=1)\n",
    "\n",
    "    df_excel.to_excel('formatted_'+file)"
   ]
  },
  {
   "cell_type": "markdown",
   "id": "538dfd81",
   "metadata": {},
   "source": [
    "# GitBook pages"
   ]
  },
  {
   "cell_type": "code",
   "execution_count": 7,
   "id": "46a78595",
   "metadata": {},
   "outputs": [],
   "source": [
    "def genMD(EC_id, Title, Authors, DOI, Abstract, conference_name, conference_acronym):\n",
    "    with open('gitbook.template.txt', 'r') as f:\n",
    "        \n",
    "        if ', ' in Authors:\n",
    "            Authors = Authors.replace(' and ',', and ')\n",
    "        \n",
    "        author_info = {\n",
    "            'id': str(EC_id).zfill(4),\n",
    "            'Title': Title,\n",
    "            'conference_name': conference_name,\n",
    "            'DOI': DOI,\n",
    "            'conference_acronym': conference_acronym,\n",
    "            'Authors': Authors,\n",
    "            'Abstract': Abstract\n",
    "        }\n",
    "        src = Template(f.read())\n",
    "        result = src.substitute(author_info)\n",
    "        \n",
    "    f = open('gitbook/'+str(EC_id).zfill(4)+'.md', \"w\", encoding=\"utf-8\")\n",
    "    f.write(result)\n",
    "    f.close()"
   ]
  },
  {
   "cell_type": "markdown",
   "id": "97b4fb4c",
   "metadata": {},
   "source": [
    "# DOIs"
   ]
  },
  {
   "cell_type": "code",
   "execution_count": 10,
   "id": "be4408e6",
   "metadata": {},
   "outputs": [
    {
     "name": "stderr",
     "output_type": "stream",
     "text": [
      "50it [00:00, 282.42it/s]\n"
     ]
    }
   ],
   "source": [
    "df = pd.read_excel('formatted_'+file)\n",
    "\n",
    "papers = ''\n",
    "for index, row in tqdm(df.iterrows()):\n",
    "    authors = ''\n",
    "#if(row['Status'] == 'Ok'):\n",
    "        \n",
    "    genMD(row['#'], row['Title'], row['Authors'], row['DOI'], row['Abstract'], conference_name, conference_acronym)\n",
    "    \n",
    "    for i in range(1,int(df.columns[-1].replace('Author',''))):\n",
    "        sequenceText = 'additional'\n",
    "        if(i == 1): \n",
    "            sequenceText = 'first'\n",
    "        if(not pd.isna(row[f'Author{i}'])):\n",
    "\n",
    "            names, surname = row[f'Author{i}'].rsplit(' ', 1)\n",
    "\n",
    "            author_info = {\n",
    "                'seq': sequenceText,\n",
    "                'fname': names,\n",
    "                'lname': surname\n",
    "            }\n",
    "            with open('author.template.txt', 'r') as f:\n",
    "                src = Template(f.read())\n",
    "                result = src.substitute(author_info)\n",
    "                authors += result\n",
    "\n",
    "    if(authors != ''):\n",
    "        paper_info = {\n",
    "            'authors': authors,\n",
    "            'title': row['Title'],\n",
    "            'year': article_year,\n",
    "            'doi': row['DOI'],\n",
    "            'url': row['URL - GITBOOK']\n",
    "            }\n",
    "\n",
    "\n",
    "        with open('conference_paper.template.txt', 'r') as f:\n",
    "            src = Template(f.read())\n",
    "            paper = src.substitute(paper_info)\n",
    "            papers += paper"
   ]
  },
  {
   "cell_type": "code",
   "execution_count": 11,
   "id": "a16bbf7a",
   "metadata": {},
   "outputs": [
    {
     "ename": "FileExistsError",
     "evalue": "[Errno 17] File exists: 'dois_20241123185259.xml'",
     "output_type": "error",
     "traceback": [
      "\u001b[1;31m---------------------------------------------------------------------------\u001b[0m",
      "\u001b[1;31mFileExistsError\u001b[0m                           Traceback (most recent call last)",
      "Input \u001b[1;32mIn [11]\u001b[0m, in \u001b[0;36m<cell line: 30>\u001b[1;34m()\u001b[0m\n\u001b[0;32m     31\u001b[0m src \u001b[38;5;241m=\u001b[39m Template(f\u001b[38;5;241m.\u001b[39mread())\n\u001b[0;32m     32\u001b[0m result \u001b[38;5;241m=\u001b[39m src\u001b[38;5;241m.\u001b[39msubstitute(conference_info)\n\u001b[1;32m---> 33\u001b[0m \u001b[38;5;28;01mwith\u001b[39;00m \u001b[38;5;28;43mopen\u001b[39;49m\u001b[43m(\u001b[49m\u001b[38;5;124;43mf\u001b[39;49m\u001b[38;5;124;43m'\u001b[39;49m\u001b[38;5;124;43mdois_\u001b[39;49m\u001b[38;5;132;43;01m{\u001b[39;49;00m\u001b[43mts\u001b[49m\u001b[38;5;132;43;01m}\u001b[39;49;00m\u001b[38;5;124;43m.xml\u001b[39;49m\u001b[38;5;124;43m'\u001b[39;49m\u001b[43m,\u001b[49m\u001b[43m \u001b[49m\u001b[38;5;124;43m'\u001b[39;49m\u001b[38;5;124;43mx\u001b[39;49m\u001b[38;5;124;43m'\u001b[39;49m\u001b[43m,\u001b[49m\u001b[43m \u001b[49m\u001b[43mencoding\u001b[49m\u001b[38;5;241;43m=\u001b[39;49m\u001b[38;5;124;43m\"\u001b[39;49m\u001b[38;5;124;43mutf-8\u001b[39;49m\u001b[38;5;124;43m\"\u001b[39;49m\u001b[43m)\u001b[49m \u001b[38;5;28;01mas\u001b[39;00m f:\n\u001b[0;32m     34\u001b[0m     f\u001b[38;5;241m.\u001b[39mwrite(result)\n",
      "\u001b[1;31mFileExistsError\u001b[0m: [Errno 17] File exists: 'dois_20241123185259.xml'"
     ]
    }
   ],
   "source": [
    "conference_info = {\n",
    "    'batch_id': batch_id,\n",
    "    'timestamp': ts,\n",
    "    'depositor_name': depositor_name,\n",
    "    'email_address': email_address,\n",
    "    'registrant': registrant,\n",
    "    'conference_name': conference_name,\n",
    "    'conference_theme': conference_theme,\n",
    "    'conference_acronym': conference_acronym,\n",
    "    'conference_sponsor': conference_sponsor,\n",
    "    'conference_number': conference_number,\n",
    "    'conference_location': conference_location,\n",
    "    'start_month': start_month,\n",
    "    'start_year': start_year,\n",
    "    'start_day': start_day,\n",
    "    'end_year': end_year,\n",
    "    'end_month': end_month,\n",
    "    'end_day': end_day,\n",
    "    'proceedings_title': proceedings_title,\n",
    "    'proceedings_subject': proceedings_subject,\n",
    "    'publisher_name': publisher_name,\n",
    "    'publisher_place': publisher_place,\n",
    "    'publication_date_year': publication_date_year,\n",
    "    'isbn': isbn,\n",
    "    'processings_doi': processings_doi,\n",
    "    'processings_resource': processings_resource,\n",
    "    'conference_papers': papers\n",
    "}\n",
    "\n",
    "with open('conference.template.txt', 'r') as f:\n",
    "    src = Template(f.read())\n",
    "    result = src.substitute(conference_info)\n",
    "    with open(f'dois_{ts}.xml', 'x', encoding=\"utf-8\") as f:\n",
    "        f.write(result)"
   ]
  },
  {
   "cell_type": "code",
   "execution_count": null,
   "id": "3f6c7bff",
   "metadata": {},
   "outputs": [],
   "source": []
  }
 ],
 "metadata": {
  "kernelspec": {
   "display_name": "Python 3 (ipykernel)",
   "language": "python",
   "name": "python3"
  },
  "language_info": {
   "codemirror_mode": {
    "name": "ipython",
    "version": 3
   },
   "file_extension": ".py",
   "mimetype": "text/x-python",
   "name": "python",
   "nbconvert_exporter": "python",
   "pygments_lexer": "ipython3",
   "version": "3.9.12"
  },
  "varInspector": {
   "cols": {
    "lenName": 16,
    "lenType": 16,
    "lenVar": 40
   },
   "kernels_config": {
    "python": {
     "delete_cmd_postfix": "",
     "delete_cmd_prefix": "del ",
     "library": "var_list.py",
     "varRefreshCmd": "print(var_dic_list())"
    },
    "r": {
     "delete_cmd_postfix": ") ",
     "delete_cmd_prefix": "rm(",
     "library": "var_list.r",
     "varRefreshCmd": "cat(var_dic_list()) "
    }
   },
   "types_to_exclude": [
    "module",
    "function",
    "builtin_function_or_method",
    "instance",
    "_Feature"
   ],
   "window_display": false
  }
 },
 "nbformat": 4,
 "nbformat_minor": 5
}
